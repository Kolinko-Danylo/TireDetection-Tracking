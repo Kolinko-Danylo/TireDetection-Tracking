{
 "cells": [
  {
   "cell_type": "code",
   "execution_count": 5,
   "metadata": {},
   "outputs": [],
   "source": [
    "import cv2"
   ]
  },
  {
   "cell_type": "code",
   "execution_count": 2,
   "metadata": {},
   "outputs": [],
   "source": [
    "def kmeans(img):\n",
    "    Z = img.reshape((-1,3))\n",
    "\n",
    "    Z = np.float32(Z)\n",
    "\n",
    "    criteria = (cv2.TERM_CRITERIA_MAX_ITER, 1, 1.0)\n",
    "    K = 8\n",
    "    ret,label,center=cv2.kmeans(Z,K,None,criteria,10,cv2.KMEANS_RANDOM_CENTERS)\n",
    "\n",
    "    center = np.uint8(center)\n",
    "    res = center[label.flatten()]\n",
    "    res2 = res.reshape((img.shape))\n",
    "\n",
    "    return res2"
   ]
  },
  {
   "cell_type": "code",
   "execution_count": 11,
   "metadata": {},
   "outputs": [],
   "source": [
    "def video_creation_bg_sub(input_path, output_path='outbg.mp4'):\n",
    "    \n",
    "    cap = cv2.VideoCapture(input_path) \n",
    "    if (cap.isOpened() == False): \n",
    "        print(\"Unable to read camera feed\")\n",
    "        \n",
    "    frame_width = int(cap.get(3))\n",
    "    frame_height = int(cap.get(4))\n",
    "    index = 0\n",
    "\n",
    "    out = cv2.VideoWriter(output_path,cv2.VideoWriter_fourcc('M','J','P','G'), 10, (frame_width,frame_height))\n",
    "    fgbg = cv2.createBackgroundSubtractorMOG2(detectShadows=False, varThreshold=40, history = 100) \n",
    "    \n",
    "    while(True): \n",
    "        ret, frame = cap.read() \n",
    "        if ret:\n",
    "            \n",
    "            cv2.imshow(\"output1\", frame)\n",
    "            \n",
    "            fgmask = fgbg.apply(frame)\n",
    "\n",
    "            opening = cv2.morphologyEx(fgmask, cv2.MORPH_OPEN, (100, 100))\n",
    "\n",
    "            blured = cv2.GaussianBlur(opening, (15, 15), 3, borderType = cv2.BORDER_CONSTANT )\n",
    "            dialated = cv2.morphologyEx(blured, cv2.MORPH_DILATE, (25, 25))\n",
    "            closing = cv2.morphologyEx(dialated, cv2.MORPH_CLOSE, (100,100))\n",
    "\n",
    "            cv2.imshow(\"output3\", closing)\n",
    "\n",
    "            out.write(closing)\n",
    "\n",
    "            if cv2.waitKey(1) & 0xFF == ord('q'):\n",
    "                break\n",
    "        else:\n",
    "            break\n",
    "\n",
    "\n",
    "    cap.release() \n",
    "    out.release()\n",
    "    cv2.destroyAllWindows() "
   ]
  },
  {
   "cell_type": "code",
   "execution_count": 13,
   "metadata": {},
   "outputs": [],
   "source": [
    "video_creation_bg_sub(\"video_folder/ObjectDetectionSample1.mp4\", \"video_folder/BG_SUB_ObjectDetectionSample1.mp4\")"
   ]
  }
 ],
 "metadata": {
  "kernelspec": {
   "display_name": "Python 3",
   "language": "python",
   "name": "python3"
  },
  "language_info": {
   "codemirror_mode": {
    "name": "ipython",
    "version": 3
   },
   "file_extension": ".py",
   "mimetype": "text/x-python",
   "name": "python",
   "nbconvert_exporter": "python",
   "pygments_lexer": "ipython3",
   "version": "3.7.4"
  }
 },
 "nbformat": 4,
 "nbformat_minor": 2
}
